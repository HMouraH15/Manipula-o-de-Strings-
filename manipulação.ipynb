{
  "nbformat": 4,
  "nbformat_minor": 0,
  "metadata": {
    "colab": {
      "provenance": []
    },
    "kernelspec": {
      "name": "python3",
      "display_name": "Python 3"
    },
    "language_info": {
      "name": "python"
    }
  },
  "cells": [
    {
      "cell_type": "markdown",
      "source": [
        "**Questão 1**\n"
      ],
      "metadata": {
        "id": "hLY-kAsu7yjD"
      }
    },
    {
      "cell_type": "code",
      "execution_count": 1,
      "metadata": {
        "colab": {
          "base_uri": "https://localhost:8080/"
        },
        "id": "1kVvxDHY3x3c",
        "outputId": "8a8497c0-4228-4041-b0c3-a16e6eb496c7"
      },
      "outputs": [
        {
          "output_type": "stream",
          "name": "stdout",
          "text": [
            "amazing. is OpenAI World! Hello,\n"
          ]
        }
      ],
      "source": [
        "def reverse_sentence(sentence):\n",
        "    # Separa a frase em uma lista de palavras\n",
        "    words = sentence.split()\n",
        "\n",
        "    # Inverte a ordem das palavras\n",
        "    reversed_words = words[::-1]\n",
        "\n",
        "    # Junta as palavras novamente em uma frase invertida\n",
        "    reversed_sentence = \" \".join(reversed_words)\n",
        "\n",
        "    return reversed_sentence\n",
        "\n",
        "input_sentence = \"Hello, World! OpenAI is amazing.\"\n",
        "reversed_sentence = reverse_sentence(input_sentence)\n",
        "print(reversed_sentence)\n"
      ]
    },
    {
      "cell_type": "markdown",
      "source": [
        "**Questão 2**"
      ],
      "metadata": {
        "id": "r6vs8jUZABHm"
      }
    },
    {
      "cell_type": "code",
      "source": [
        "import string\n",
        "\n",
        "def remove_duplicates(input_string):\n",
        "    # Inicializa uma string vazia para armazenar os caracteres únicos\n",
        "    unique_chars = \"\"\n",
        "\n",
        "    # Define os caracteres de pontuação a serem considerados\n",
        "    punctuation_chars = string.punctuation + \"’\"  # Adicione caracteres de pontuação adicionais se necessário\n",
        "\n",
        "    # Percorre cada caractere na string\n",
        "    for char in input_string:\n",
        "        # Verifica se o caractere é alfabético, espaço ou um dos caracteres de pontuação definidos\n",
        "        if char.isalpha() or char.isspace() or char in punctuation_chars:\n",
        "            # Verifica se o caractere já está presente na string de caracteres únicos\n",
        "            if char not in unique_chars:\n",
        "                # Adiciona o caractere à string de caracteres únicos\n",
        "                unique_chars += char\n",
        "\n",
        "    return unique_chars\n",
        "\n",
        "input_string = \"Hello, World!\"\n",
        "result = remove_duplicates(input_string)\n",
        "print(result)\n"
      ],
      "metadata": {
        "colab": {
          "base_uri": "https://localhost:8080/"
        },
        "id": "8b5tjXnk9fWW",
        "outputId": "73102ff4-0f20-446f-e502-9b0cc14d0a76"
      },
      "execution_count": 18,
      "outputs": [
        {
          "output_type": "stream",
          "name": "stdout",
          "text": [
            "Helo, Wrd!\n"
          ]
        }
      ]
    },
    {
      "cell_type": "markdown",
      "source": [
        "**Questão 3**"
      ],
      "metadata": {
        "id": "JN2xXKKu_4Rk"
      }
    },
    {
      "cell_type": "code",
      "source": [
        "def longest_palindrome(string):\n",
        "    longest = \"\"\n",
        "\n",
        "    # Percorre cada posição na string como ponto central\n",
        "    for i in range(len(string)):\n",
        "        # Verifica se há um palíndromo de tamanho ímpar com o ponto central em i\n",
        "        palindrome_odd = expand_from_center(string, i, i)\n",
        "        if len(palindrome_odd) > len(longest):\n",
        "            longest = palindrome_odd\n",
        "\n",
        "        # Verifica se há um palíndromo de tamanho par com o ponto central entre i e i+1\n",
        "        palindrome_even = expand_from_center(string, i, i+1)\n",
        "        if len(palindrome_even) > len(longest):\n",
        "            longest = palindrome_even\n",
        "\n",
        "    return longest\n",
        "\n",
        "def expand_from_center(string, left, right):\n",
        "    # Expande a partir do ponto central para a esquerda e direita\n",
        "    while left >= 0 and right < len(string) and string[left] == string[right]:\n",
        "        left -= 1\n",
        "        right += 1\n",
        "\n",
        "    # Retorna a substring palíndroma encontrada\n",
        "    return string[left+1:right]\n",
        "\n",
        "input_string = \"babad\"\n",
        "result = longest_palindrome(input_string)\n",
        "print(result)\n"
      ],
      "metadata": {
        "colab": {
          "base_uri": "https://localhost:8080/"
        },
        "id": "qQtM86RD99A3",
        "outputId": "4b9e3cde-9963-46ac-c03b-47789eaed182"
      },
      "execution_count": 19,
      "outputs": [
        {
          "output_type": "stream",
          "name": "stdout",
          "text": [
            "bab\n"
          ]
        }
      ]
    },
    {
      "cell_type": "markdown",
      "source": [
        "**Questão 4**"
      ],
      "metadata": {
        "id": "t0SJESIo_z1M"
      }
    },
    {
      "cell_type": "code",
      "source": [
        "def capitalize_sentences(string):\n",
        "    # Divide a string em frases utilizando os sinais de pontuação como delimitadores\n",
        "    sentences = re.split(r'([.!?])', string)\n",
        "\n",
        "    # Capitaliza a primeira letra de cada frase\n",
        "    capitalized_sentences = [sentence.strip().capitalize() for sentence in sentences if sentence.strip()]\n",
        "\n",
        "    # Junta novamente as frases em uma string\n",
        "    result = ''.join(capitalized_sentences)\n",
        "\n",
        "    return result\n",
        "\n",
        "import re\n",
        "\n",
        "input_string = \"hello. how are you? i'm fine, thank you.\"\n",
        "result = capitalize_sentences(input_string)\n",
        "print(result)\n"
      ],
      "metadata": {
        "colab": {
          "base_uri": "https://localhost:8080/"
        },
        "id": "8DKCCXsk-ScL",
        "outputId": "3d93d40a-72d0-48f7-deac-2bb17bd10ad3"
      },
      "execution_count": 20,
      "outputs": [
        {
          "output_type": "stream",
          "name": "stdout",
          "text": [
            "Hello.How are you?I'm fine, thank you.\n"
          ]
        }
      ]
    },
    {
      "cell_type": "markdown",
      "source": [
        "**Questão 5**"
      ],
      "metadata": {
        "id": "soAle8N3_UZB"
      }
    },
    {
      "cell_type": "code",
      "source": [
        "def is_anagram_of_palindrome(string):\n",
        "    # Remove espaços e converte a string para letras minúsculas\n",
        "    string = string.replace(\" \", \"\").lower()\n",
        "\n",
        "    # Inicializa um dicionário para contar a quantidade de ocorrências de cada caractere\n",
        "    char_count = {}\n",
        "\n",
        "    # Percorre cada caractere na string\n",
        "    for char in string:\n",
        "        # Verifica se o caractere é alfabético\n",
        "        if char.isalpha():\n",
        "            # Atualiza a contagem do caractere no dicionário\n",
        "            char_count[char] = char_count.get(char, 0) + 1\n",
        "\n",
        "    # Conta a quantidade de caracteres com contagem ímpar\n",
        "    odd_count = 0\n",
        "    for count in char_count.values():\n",
        "        if count % 2 != 0:\n",
        "            odd_count += 1\n",
        "\n",
        "    # Retorna True se a quantidade de caracteres com contagem ímpar for no máximo 1, caso contrário retorna False\n",
        "    return odd_count <= 1\n",
        "\n",
        "input_string = \"racecar\"\n",
        "result = is_anagram_of_palindrome(input_string)\n",
        "print(result)\n"
      ],
      "metadata": {
        "colab": {
          "base_uri": "https://localhost:8080/"
        },
        "id": "_OIjiUlX-XIN",
        "outputId": "647d9524-dbdf-47d5-c459-d6e26848e30c"
      },
      "execution_count": 22,
      "outputs": [
        {
          "output_type": "stream",
          "name": "stdout",
          "text": [
            "True\n"
          ]
        }
      ]
    }
  ]
}